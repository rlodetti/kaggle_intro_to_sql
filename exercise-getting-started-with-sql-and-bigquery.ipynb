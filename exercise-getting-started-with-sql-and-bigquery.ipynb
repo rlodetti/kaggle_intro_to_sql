{
 "cells": [
  {
   "cell_type": "markdown",
   "id": "8d4f3815",
   "metadata": {
    "papermill": {
     "duration": 0.013309,
     "end_time": "2024-05-11T14:10:11.838496",
     "exception": false,
     "start_time": "2024-05-11T14:10:11.825187",
     "status": "completed"
    },
    "tags": []
   },
   "source": [
    "**This notebook is an exercise in the [SQL](https://www.kaggle.com/learn/intro-to-sql) course.  You can reference the tutorial at [this link](https://www.kaggle.com/dansbecker/getting-started-with-sql-and-bigquery).**\n",
    "\n",
    "---\n"
   ]
  },
  {
   "cell_type": "markdown",
   "id": "ababaeed",
   "metadata": {
    "papermill": {
     "duration": 0.007249,
     "end_time": "2024-05-11T14:10:11.855768",
     "exception": false,
     "start_time": "2024-05-11T14:10:11.848519",
     "status": "completed"
    },
    "tags": []
   },
   "source": [
    "# Introduction\n",
    "\n",
    "The first test of your new data exploration skills uses data describing crime in the city of Chicago.\n",
    "\n",
    "Before you get started, run the following cell. It sets up the automated feedback system to review your answers."
   ]
  },
  {
   "cell_type": "code",
   "execution_count": 1,
   "id": "4f79bcc0",
   "metadata": {
    "execution": {
     "iopub.execute_input": "2024-05-11T14:10:11.873425Z",
     "iopub.status.busy": "2024-05-11T14:10:11.872630Z",
     "iopub.status.idle": "2024-05-11T14:10:19.006910Z",
     "shell.execute_reply": "2024-05-11T14:10:19.005713Z"
    },
    "papermill": {
     "duration": 7.146255,
     "end_time": "2024-05-11T14:10:19.009609",
     "exception": false,
     "start_time": "2024-05-11T14:10:11.863354",
     "status": "completed"
    },
    "tags": []
   },
   "outputs": [
    {
     "name": "stdout",
     "output_type": "stream",
     "text": [
      "Using Kaggle's public dataset BigQuery integration.\n",
      "Setup Complete\n"
     ]
    }
   ],
   "source": [
    "# Set up feedack system\n",
    "from learntools.core import binder\n",
    "binder.bind(globals())\n",
    "from learntools.sql.ex1 import *\n",
    "print(\"Setup Complete\")"
   ]
  },
  {
   "cell_type": "markdown",
   "id": "22a7b6d2",
   "metadata": {
    "papermill": {
     "duration": 0.007425,
     "end_time": "2024-05-11T14:10:19.025004",
     "exception": false,
     "start_time": "2024-05-11T14:10:19.017579",
     "status": "completed"
    },
    "tags": []
   },
   "source": [
    "Use the next code cell to fetch the dataset."
   ]
  },
  {
   "cell_type": "code",
   "execution_count": 2,
   "id": "7ba2f94d",
   "metadata": {
    "execution": {
     "iopub.execute_input": "2024-05-11T14:10:19.043559Z",
     "iopub.status.busy": "2024-05-11T14:10:19.042247Z",
     "iopub.status.idle": "2024-05-11T14:10:19.382269Z",
     "shell.execute_reply": "2024-05-11T14:10:19.381031Z"
    },
    "papermill": {
     "duration": 0.353302,
     "end_time": "2024-05-11T14:10:19.385997",
     "exception": false,
     "start_time": "2024-05-11T14:10:19.032695",
     "status": "completed"
    },
    "tags": []
   },
   "outputs": [
    {
     "name": "stdout",
     "output_type": "stream",
     "text": [
      "Using Kaggle's public dataset BigQuery integration.\n"
     ]
    }
   ],
   "source": [
    "from google.cloud import bigquery\n",
    "\n",
    "# Create a \"Client\" object\n",
    "client = bigquery.Client()\n",
    "\n",
    "# Construct a reference to the \"chicago_crime\" dataset\n",
    "dataset_ref = client.dataset(\"chicago_crime\", project=\"bigquery-public-data\")\n",
    "\n",
    "# API request - fetch the dataset\n",
    "dataset = client.get_dataset(dataset_ref)"
   ]
  },
  {
   "cell_type": "markdown",
   "id": "65f567dc",
   "metadata": {
    "papermill": {
     "duration": 0.007603,
     "end_time": "2024-05-11T14:10:19.401673",
     "exception": false,
     "start_time": "2024-05-11T14:10:19.394070",
     "status": "completed"
    },
    "tags": []
   },
   "source": [
    "# Exercises\n",
    "\n",
    "### 1) Count tables in the dataset\n",
    "\n",
    "How many tables are in the Chicago Crime dataset?"
   ]
  },
  {
   "cell_type": "code",
   "execution_count": 3,
   "id": "31ba0b5c",
   "metadata": {
    "execution": {
     "iopub.execute_input": "2024-05-11T14:10:19.420184Z",
     "iopub.status.busy": "2024-05-11T14:10:19.419348Z",
     "iopub.status.idle": "2024-05-11T14:10:19.767642Z",
     "shell.execute_reply": "2024-05-11T14:10:19.766173Z"
    },
    "papermill": {
     "duration": 0.360607,
     "end_time": "2024-05-11T14:10:19.770314",
     "exception": false,
     "start_time": "2024-05-11T14:10:19.409707",
     "status": "completed"
    },
    "tags": []
   },
   "outputs": [
    {
     "name": "stdout",
     "output_type": "stream",
     "text": [
      "crime\n"
     ]
    }
   ],
   "source": [
    "# Write the code you need here to figure out the answer\n",
    "tables= list(client.list_tables(dataset))\n",
    "\n",
    "for table in tables:\n",
    "    print(table.table_id)"
   ]
  },
  {
   "cell_type": "code",
   "execution_count": 4,
   "id": "f520f6ec",
   "metadata": {
    "execution": {
     "iopub.execute_input": "2024-05-11T14:10:19.789771Z",
     "iopub.status.busy": "2024-05-11T14:10:19.788495Z",
     "iopub.status.idle": "2024-05-11T14:10:19.799841Z",
     "shell.execute_reply": "2024-05-11T14:10:19.798680Z"
    },
    "papermill": {
     "duration": 0.023669,
     "end_time": "2024-05-11T14:10:19.802193",
     "exception": false,
     "start_time": "2024-05-11T14:10:19.778524",
     "status": "completed"
    },
    "tags": []
   },
   "outputs": [
    {
     "data": {
      "application/javascript": [
       "parent.postMessage({\"jupyterEvent\": \"custom.exercise_interaction\", \"data\": {\"outcomeType\": 1, \"valueTowardsCompletion\": 0.3333333333333333, \"interactionType\": 1, \"questionType\": 1, \"questionId\": \"1_CountTables\", \"learnToolsVersion\": \"0.3.4\", \"failureMessage\": \"\", \"exceptionClass\": \"\", \"trace\": \"\"}}, \"*\")"
      ],
      "text/plain": [
       "<IPython.core.display.Javascript object>"
      ]
     },
     "metadata": {},
     "output_type": "display_data"
    },
    {
     "data": {
      "text/markdown": [
       "<span style=\"color:#33cc33\">Correct</span>"
      ],
      "text/plain": [
       "Correct"
      ]
     },
     "metadata": {},
     "output_type": "display_data"
    }
   ],
   "source": [
    "num_tables = 1  # Store the answer as num_tables and then run this cell\n",
    "\n",
    "# Check your answer\n",
    "q_1.check()"
   ]
  },
  {
   "cell_type": "markdown",
   "id": "dcd5329f",
   "metadata": {
    "papermill": {
     "duration": 0.008158,
     "end_time": "2024-05-11T14:10:19.818688",
     "exception": false,
     "start_time": "2024-05-11T14:10:19.810530",
     "status": "completed"
    },
    "tags": []
   },
   "source": [
    "For a hint or the solution, uncomment the appropriate line below."
   ]
  },
  {
   "cell_type": "code",
   "execution_count": 5,
   "id": "b6137076",
   "metadata": {
    "execution": {
     "iopub.execute_input": "2024-05-11T14:10:19.839052Z",
     "iopub.status.busy": "2024-05-11T14:10:19.838183Z",
     "iopub.status.idle": "2024-05-11T14:10:19.843024Z",
     "shell.execute_reply": "2024-05-11T14:10:19.842116Z"
    },
    "papermill": {
     "duration": 0.017165,
     "end_time": "2024-05-11T14:10:19.845431",
     "exception": false,
     "start_time": "2024-05-11T14:10:19.828266",
     "status": "completed"
    },
    "tags": []
   },
   "outputs": [],
   "source": [
    "#q_1.hint()\n",
    "#q_1.solution()"
   ]
  },
  {
   "cell_type": "markdown",
   "id": "bb88cc0c",
   "metadata": {
    "papermill": {
     "duration": 0.008996,
     "end_time": "2024-05-11T14:10:19.862886",
     "exception": false,
     "start_time": "2024-05-11T14:10:19.853890",
     "status": "completed"
    },
    "tags": []
   },
   "source": [
    "### 2) Explore the table schema\n",
    "\n",
    "How many columns in the `crime` table have `TIMESTAMP` data?"
   ]
  },
  {
   "cell_type": "code",
   "execution_count": 6,
   "id": "4a65c76e",
   "metadata": {
    "execution": {
     "iopub.execute_input": "2024-05-11T14:10:19.883809Z",
     "iopub.status.busy": "2024-05-11T14:10:19.883009Z",
     "iopub.status.idle": "2024-05-11T14:10:20.236676Z",
     "shell.execute_reply": "2024-05-11T14:10:20.235528Z"
    },
    "papermill": {
     "duration": 0.366033,
     "end_time": "2024-05-11T14:10:20.239057",
     "exception": false,
     "start_time": "2024-05-11T14:10:19.873024",
     "status": "completed"
    },
    "tags": []
   },
   "outputs": [
    {
     "data": {
      "text/plain": [
       "[SchemaField('unique_key', 'INTEGER', 'REQUIRED', None, (), None),\n",
       " SchemaField('case_number', 'STRING', 'NULLABLE', None, (), None),\n",
       " SchemaField('date', 'TIMESTAMP', 'NULLABLE', None, (), None),\n",
       " SchemaField('block', 'STRING', 'NULLABLE', None, (), None),\n",
       " SchemaField('iucr', 'STRING', 'NULLABLE', None, (), None),\n",
       " SchemaField('primary_type', 'STRING', 'NULLABLE', None, (), None),\n",
       " SchemaField('description', 'STRING', 'NULLABLE', None, (), None),\n",
       " SchemaField('location_description', 'STRING', 'NULLABLE', None, (), None),\n",
       " SchemaField('arrest', 'BOOLEAN', 'NULLABLE', None, (), None),\n",
       " SchemaField('domestic', 'BOOLEAN', 'NULLABLE', None, (), None),\n",
       " SchemaField('beat', 'INTEGER', 'NULLABLE', None, (), None),\n",
       " SchemaField('district', 'INTEGER', 'NULLABLE', None, (), None),\n",
       " SchemaField('ward', 'INTEGER', 'NULLABLE', None, (), None),\n",
       " SchemaField('community_area', 'INTEGER', 'NULLABLE', None, (), None),\n",
       " SchemaField('fbi_code', 'STRING', 'NULLABLE', None, (), None),\n",
       " SchemaField('x_coordinate', 'FLOAT', 'NULLABLE', None, (), None),\n",
       " SchemaField('y_coordinate', 'FLOAT', 'NULLABLE', None, (), None),\n",
       " SchemaField('year', 'INTEGER', 'NULLABLE', None, (), None),\n",
       " SchemaField('updated_on', 'TIMESTAMP', 'NULLABLE', None, (), None),\n",
       " SchemaField('latitude', 'FLOAT', 'NULLABLE', None, (), None),\n",
       " SchemaField('longitude', 'FLOAT', 'NULLABLE', None, (), None),\n",
       " SchemaField('location', 'STRING', 'NULLABLE', None, (), None)]"
      ]
     },
     "execution_count": 6,
     "metadata": {},
     "output_type": "execute_result"
    }
   ],
   "source": [
    "# Write the code to figure out the answer\n",
    "table_ref = dataset_ref.table(\"crime\")\n",
    "table = client.get_table(table_ref)\n",
    "table.schema"
   ]
  },
  {
   "cell_type": "code",
   "execution_count": 7,
   "id": "010aeeb3",
   "metadata": {
    "execution": {
     "iopub.execute_input": "2024-05-11T14:10:20.258461Z",
     "iopub.status.busy": "2024-05-11T14:10:20.257795Z",
     "iopub.status.idle": "2024-05-11T14:10:20.267047Z",
     "shell.execute_reply": "2024-05-11T14:10:20.265775Z"
    },
    "papermill": {
     "duration": 0.021816,
     "end_time": "2024-05-11T14:10:20.269362",
     "exception": false,
     "start_time": "2024-05-11T14:10:20.247546",
     "status": "completed"
    },
    "tags": []
   },
   "outputs": [
    {
     "data": {
      "application/javascript": [
       "parent.postMessage({\"jupyterEvent\": \"custom.exercise_interaction\", \"data\": {\"outcomeType\": 1, \"valueTowardsCompletion\": 0.3333333333333333, \"interactionType\": 1, \"questionType\": 1, \"questionId\": \"2_CountTimestampFields\", \"learnToolsVersion\": \"0.3.4\", \"failureMessage\": \"\", \"exceptionClass\": \"\", \"trace\": \"\"}}, \"*\")"
      ],
      "text/plain": [
       "<IPython.core.display.Javascript object>"
      ]
     },
     "metadata": {},
     "output_type": "display_data"
    },
    {
     "data": {
      "text/markdown": [
       "<span style=\"color:#33cc33\">Correct</span>"
      ],
      "text/plain": [
       "Correct"
      ]
     },
     "metadata": {},
     "output_type": "display_data"
    }
   ],
   "source": [
    "num_timestamp_fields = 2 # Put your answer here\n",
    "\n",
    "# Check your answer\n",
    "q_2.check()"
   ]
  },
  {
   "cell_type": "markdown",
   "id": "64ca3308",
   "metadata": {
    "papermill": {
     "duration": 0.008553,
     "end_time": "2024-05-11T14:10:20.286860",
     "exception": false,
     "start_time": "2024-05-11T14:10:20.278307",
     "status": "completed"
    },
    "tags": []
   },
   "source": [
    "For a hint or the solution, uncomment the appropriate line below."
   ]
  },
  {
   "cell_type": "code",
   "execution_count": 8,
   "id": "57d089ba",
   "metadata": {
    "execution": {
     "iopub.execute_input": "2024-05-11T14:10:20.307024Z",
     "iopub.status.busy": "2024-05-11T14:10:20.306387Z",
     "iopub.status.idle": "2024-05-11T14:10:20.310767Z",
     "shell.execute_reply": "2024-05-11T14:10:20.309927Z"
    },
    "papermill": {
     "duration": 0.017285,
     "end_time": "2024-05-11T14:10:20.313026",
     "exception": false,
     "start_time": "2024-05-11T14:10:20.295741",
     "status": "completed"
    },
    "tags": []
   },
   "outputs": [],
   "source": [
    "#q_2.hint()\n",
    "#q_2.solution()"
   ]
  },
  {
   "cell_type": "markdown",
   "id": "6423dccc",
   "metadata": {
    "papermill": {
     "duration": 0.008645,
     "end_time": "2024-05-11T14:10:20.330604",
     "exception": false,
     "start_time": "2024-05-11T14:10:20.321959",
     "status": "completed"
    },
    "tags": []
   },
   "source": [
    "### 3) Create a crime map\n",
    "\n",
    "If you wanted to create a map with a dot at the location of each crime, what are the names of the two fields you likely need to pull out of the `crime` table to plot the crimes on a map?"
   ]
  },
  {
   "cell_type": "code",
   "execution_count": 9,
   "id": "82f36d83",
   "metadata": {
    "execution": {
     "iopub.execute_input": "2024-05-11T14:10:20.350692Z",
     "iopub.status.busy": "2024-05-11T14:10:20.350024Z",
     "iopub.status.idle": "2024-05-11T14:10:20.880467Z",
     "shell.execute_reply": "2024-05-11T14:10:20.879441Z"
    },
    "papermill": {
     "duration": 0.544139,
     "end_time": "2024-05-11T14:10:20.883657",
     "exception": false,
     "start_time": "2024-05-11T14:10:20.339518",
     "status": "completed"
    },
    "tags": []
   },
   "outputs": [],
   "source": [
    "# Write the code here to explore the data so you can find the answer\n",
    "header_df = client.list_rows(table, max_results=5).to_dataframe()"
   ]
  },
  {
   "cell_type": "code",
   "execution_count": 10,
   "id": "abbd2faf",
   "metadata": {
    "execution": {
     "iopub.execute_input": "2024-05-11T14:10:20.904660Z",
     "iopub.status.busy": "2024-05-11T14:10:20.904278Z",
     "iopub.status.idle": "2024-05-11T14:10:20.926887Z",
     "shell.execute_reply": "2024-05-11T14:10:20.925590Z"
    },
    "papermill": {
     "duration": 0.035618,
     "end_time": "2024-05-11T14:10:20.929546",
     "exception": false,
     "start_time": "2024-05-11T14:10:20.893928",
     "status": "completed"
    },
    "tags": []
   },
   "outputs": [
    {
     "data": {
      "text/html": [
       "<div>\n",
       "<style scoped>\n",
       "    .dataframe tbody tr th:only-of-type {\n",
       "        vertical-align: middle;\n",
       "    }\n",
       "\n",
       "    .dataframe tbody tr th {\n",
       "        vertical-align: top;\n",
       "    }\n",
       "\n",
       "    .dataframe thead th {\n",
       "        text-align: right;\n",
       "    }\n",
       "</style>\n",
       "<table border=\"1\" class=\"dataframe\">\n",
       "  <thead>\n",
       "    <tr style=\"text-align: right;\">\n",
       "      <th></th>\n",
       "      <th>unique_key</th>\n",
       "      <th>case_number</th>\n",
       "      <th>date</th>\n",
       "      <th>block</th>\n",
       "      <th>iucr</th>\n",
       "      <th>primary_type</th>\n",
       "      <th>description</th>\n",
       "      <th>location_description</th>\n",
       "      <th>arrest</th>\n",
       "      <th>domestic</th>\n",
       "    </tr>\n",
       "  </thead>\n",
       "  <tbody>\n",
       "    <tr>\n",
       "      <th>0</th>\n",
       "      <td>12808683</td>\n",
       "      <td>JF373199</td>\n",
       "      <td>2022-08-28 02:30:00+00:00</td>\n",
       "      <td>001XX N STATE ST</td>\n",
       "      <td>0312</td>\n",
       "      <td>ROBBERY</td>\n",
       "      <td>ARMED - KNIFE / CUTTING INSTRUMENT</td>\n",
       "      <td>CTA PLATFORM</td>\n",
       "      <td>False</td>\n",
       "      <td>False</td>\n",
       "    </tr>\n",
       "    <tr>\n",
       "      <th>1</th>\n",
       "      <td>4264531</td>\n",
       "      <td>HL581788</td>\n",
       "      <td>2005-08-30 07:33:00+00:00</td>\n",
       "      <td>005XX W MADISON ST</td>\n",
       "      <td>0312</td>\n",
       "      <td>ROBBERY</td>\n",
       "      <td>ARMED:KNIFE/CUTTING INSTRUMENT</td>\n",
       "      <td>SMALL RETAIL STORE</td>\n",
       "      <td>False</td>\n",
       "      <td>False</td>\n",
       "    </tr>\n",
       "    <tr>\n",
       "      <th>2</th>\n",
       "      <td>4382503</td>\n",
       "      <td>HL677533</td>\n",
       "      <td>2005-10-16 11:57:14+00:00</td>\n",
       "      <td>001XX N JEFFERSON ST</td>\n",
       "      <td>031A</td>\n",
       "      <td>ROBBERY</td>\n",
       "      <td>ARMED: HANDGUN</td>\n",
       "      <td>SIDEWALK</td>\n",
       "      <td>False</td>\n",
       "      <td>False</td>\n",
       "    </tr>\n",
       "    <tr>\n",
       "      <th>3</th>\n",
       "      <td>6970069</td>\n",
       "      <td>HR375305</td>\n",
       "      <td>2009-06-13 11:00:00+00:00</td>\n",
       "      <td>002XX S CANAL ST</td>\n",
       "      <td>031A</td>\n",
       "      <td>ROBBERY</td>\n",
       "      <td>ARMED: HANDGUN</td>\n",
       "      <td>SIDEWALK</td>\n",
       "      <td>False</td>\n",
       "      <td>False</td>\n",
       "    </tr>\n",
       "    <tr>\n",
       "      <th>4</th>\n",
       "      <td>10092683</td>\n",
       "      <td>HY280969</td>\n",
       "      <td>2015-05-30 12:30:00+00:00</td>\n",
       "      <td>0000X E WACKER DR</td>\n",
       "      <td>031A</td>\n",
       "      <td>ROBBERY</td>\n",
       "      <td>ARMED: HANDGUN</td>\n",
       "      <td>STREET</td>\n",
       "      <td>False</td>\n",
       "      <td>False</td>\n",
       "    </tr>\n",
       "  </tbody>\n",
       "</table>\n",
       "</div>"
      ],
      "text/plain": [
       "   unique_key case_number                      date                 block  \\\n",
       "0    12808683    JF373199 2022-08-28 02:30:00+00:00      001XX N STATE ST   \n",
       "1     4264531    HL581788 2005-08-30 07:33:00+00:00    005XX W MADISON ST   \n",
       "2     4382503    HL677533 2005-10-16 11:57:14+00:00  001XX N JEFFERSON ST   \n",
       "3     6970069    HR375305 2009-06-13 11:00:00+00:00      002XX S CANAL ST   \n",
       "4    10092683    HY280969 2015-05-30 12:30:00+00:00     0000X E WACKER DR   \n",
       "\n",
       "   iucr primary_type                         description location_description  \\\n",
       "0  0312      ROBBERY  ARMED - KNIFE / CUTTING INSTRUMENT         CTA PLATFORM   \n",
       "1  0312      ROBBERY      ARMED:KNIFE/CUTTING INSTRUMENT   SMALL RETAIL STORE   \n",
       "2  031A      ROBBERY                      ARMED: HANDGUN             SIDEWALK   \n",
       "3  031A      ROBBERY                      ARMED: HANDGUN             SIDEWALK   \n",
       "4  031A      ROBBERY                      ARMED: HANDGUN               STREET   \n",
       "\n",
       "   arrest  domestic  \n",
       "0   False     False  \n",
       "1   False     False  \n",
       "2   False     False  \n",
       "3   False     False  \n",
       "4   False     False  "
      ]
     },
     "execution_count": 10,
     "metadata": {},
     "output_type": "execute_result"
    }
   ],
   "source": [
    "header_df.iloc[:,:10]"
   ]
  },
  {
   "cell_type": "code",
   "execution_count": 11,
   "id": "95f1b940",
   "metadata": {
    "execution": {
     "iopub.execute_input": "2024-05-11T14:10:20.950078Z",
     "iopub.status.busy": "2024-05-11T14:10:20.949663Z",
     "iopub.status.idle": "2024-05-11T14:10:20.970603Z",
     "shell.execute_reply": "2024-05-11T14:10:20.969432Z"
    },
    "papermill": {
     "duration": 0.03429,
     "end_time": "2024-05-11T14:10:20.973087",
     "exception": false,
     "start_time": "2024-05-11T14:10:20.938797",
     "status": "completed"
    },
    "tags": []
   },
   "outputs": [
    {
     "data": {
      "text/html": [
       "<div>\n",
       "<style scoped>\n",
       "    .dataframe tbody tr th:only-of-type {\n",
       "        vertical-align: middle;\n",
       "    }\n",
       "\n",
       "    .dataframe tbody tr th {\n",
       "        vertical-align: top;\n",
       "    }\n",
       "\n",
       "    .dataframe thead th {\n",
       "        text-align: right;\n",
       "    }\n",
       "</style>\n",
       "<table border=\"1\" class=\"dataframe\">\n",
       "  <thead>\n",
       "    <tr style=\"text-align: right;\">\n",
       "      <th></th>\n",
       "      <th>beat</th>\n",
       "      <th>district</th>\n",
       "      <th>ward</th>\n",
       "      <th>community_area</th>\n",
       "      <th>fbi_code</th>\n",
       "      <th>x_coordinate</th>\n",
       "      <th>y_coordinate</th>\n",
       "      <th>year</th>\n",
       "      <th>updated_on</th>\n",
       "      <th>latitude</th>\n",
       "      <th>longitude</th>\n",
       "      <th>location</th>\n",
       "    </tr>\n",
       "  </thead>\n",
       "  <tbody>\n",
       "    <tr>\n",
       "      <th>0</th>\n",
       "      <td>111</td>\n",
       "      <td>1</td>\n",
       "      <td>42</td>\n",
       "      <td>32</td>\n",
       "      <td>03</td>\n",
       "      <td>1176338.0</td>\n",
       "      <td>1901346.0</td>\n",
       "      <td>2022</td>\n",
       "      <td>2023-01-03 03:40:27+00:00</td>\n",
       "      <td>41.884650</td>\n",
       "      <td>-87.627915</td>\n",
       "      <td>(41.884650262, -87.627915459)</td>\n",
       "    </tr>\n",
       "    <tr>\n",
       "      <th>1</th>\n",
       "      <td>111</td>\n",
       "      <td>1</td>\n",
       "      <td>42</td>\n",
       "      <td>28</td>\n",
       "      <td>03</td>\n",
       "      <td>1172573.0</td>\n",
       "      <td>1900294.0</td>\n",
       "      <td>2005</td>\n",
       "      <td>2018-02-10 03:50:01+00:00</td>\n",
       "      <td>41.881848</td>\n",
       "      <td>-87.641772</td>\n",
       "      <td>(41.881847601, -87.641772074)</td>\n",
       "    </tr>\n",
       "    <tr>\n",
       "      <th>2</th>\n",
       "      <td>111</td>\n",
       "      <td>1</td>\n",
       "      <td>42</td>\n",
       "      <td>28</td>\n",
       "      <td>03</td>\n",
       "      <td>1172313.0</td>\n",
       "      <td>1900889.0</td>\n",
       "      <td>2005</td>\n",
       "      <td>2018-02-28 03:56:25+00:00</td>\n",
       "      <td>41.883486</td>\n",
       "      <td>-87.642709</td>\n",
       "      <td>(41.883486065, -87.642709199)</td>\n",
       "    </tr>\n",
       "    <tr>\n",
       "      <th>3</th>\n",
       "      <td>111</td>\n",
       "      <td>1</td>\n",
       "      <td>2</td>\n",
       "      <td>28</td>\n",
       "      <td>03</td>\n",
       "      <td>1173177.0</td>\n",
       "      <td>1899236.0</td>\n",
       "      <td>2009</td>\n",
       "      <td>2018-02-28 03:56:25+00:00</td>\n",
       "      <td>41.878931</td>\n",
       "      <td>-87.639586</td>\n",
       "      <td>(41.878931004, -87.639585621)</td>\n",
       "    </tr>\n",
       "    <tr>\n",
       "      <th>4</th>\n",
       "      <td>111</td>\n",
       "      <td>1</td>\n",
       "      <td>42</td>\n",
       "      <td>32</td>\n",
       "      <td>03</td>\n",
       "      <td>1176933.0</td>\n",
       "      <td>1902486.0</td>\n",
       "      <td>2015</td>\n",
       "      <td>2018-02-10 03:50:01+00:00</td>\n",
       "      <td>41.887765</td>\n",
       "      <td>-87.625696</td>\n",
       "      <td>(41.887765041, -87.625696039)</td>\n",
       "    </tr>\n",
       "  </tbody>\n",
       "</table>\n",
       "</div>"
      ],
      "text/plain": [
       "   beat  district  ward  community_area fbi_code  x_coordinate  y_coordinate  \\\n",
       "0   111         1    42              32       03     1176338.0     1901346.0   \n",
       "1   111         1    42              28       03     1172573.0     1900294.0   \n",
       "2   111         1    42              28       03     1172313.0     1900889.0   \n",
       "3   111         1     2              28       03     1173177.0     1899236.0   \n",
       "4   111         1    42              32       03     1176933.0     1902486.0   \n",
       "\n",
       "   year                updated_on   latitude  longitude  \\\n",
       "0  2022 2023-01-03 03:40:27+00:00  41.884650 -87.627915   \n",
       "1  2005 2018-02-10 03:50:01+00:00  41.881848 -87.641772   \n",
       "2  2005 2018-02-28 03:56:25+00:00  41.883486 -87.642709   \n",
       "3  2009 2018-02-28 03:56:25+00:00  41.878931 -87.639586   \n",
       "4  2015 2018-02-10 03:50:01+00:00  41.887765 -87.625696   \n",
       "\n",
       "                        location  \n",
       "0  (41.884650262, -87.627915459)  \n",
       "1  (41.881847601, -87.641772074)  \n",
       "2  (41.883486065, -87.642709199)  \n",
       "3  (41.878931004, -87.639585621)  \n",
       "4  (41.887765041, -87.625696039)  "
      ]
     },
     "execution_count": 11,
     "metadata": {},
     "output_type": "execute_result"
    }
   ],
   "source": [
    "header_df.iloc[:,10:]"
   ]
  },
  {
   "cell_type": "code",
   "execution_count": 12,
   "id": "1632d1f3",
   "metadata": {
    "execution": {
     "iopub.execute_input": "2024-05-11T14:10:20.993961Z",
     "iopub.status.busy": "2024-05-11T14:10:20.993593Z",
     "iopub.status.idle": "2024-05-11T14:10:21.003146Z",
     "shell.execute_reply": "2024-05-11T14:10:21.001976Z"
    },
    "papermill": {
     "duration": 0.022765,
     "end_time": "2024-05-11T14:10:21.005420",
     "exception": false,
     "start_time": "2024-05-11T14:10:20.982655",
     "status": "completed"
    },
    "tags": []
   },
   "outputs": [
    {
     "data": {
      "application/javascript": [
       "parent.postMessage({\"jupyterEvent\": \"custom.exercise_interaction\", \"data\": {\"outcomeType\": 1, \"valueTowardsCompletion\": 0.3333333333333333, \"interactionType\": 1, \"questionType\": 2, \"questionId\": \"3_IdentifyFieldsForPlotting\", \"learnToolsVersion\": \"0.3.4\", \"failureMessage\": \"\", \"exceptionClass\": \"\", \"trace\": \"\"}}, \"*\")"
      ],
      "text/plain": [
       "<IPython.core.display.Javascript object>"
      ]
     },
     "metadata": {},
     "output_type": "display_data"
    },
    {
     "data": {
      "text/markdown": [
       "<span style=\"color:#33cc33\">Correct</span>"
      ],
      "text/plain": [
       "Correct"
      ]
     },
     "metadata": {},
     "output_type": "display_data"
    }
   ],
   "source": [
    "fields_for_plotting = ['latitude', 'longitude'] # Put your answers here\n",
    "\n",
    "# Check your answer\n",
    "q_3.check()"
   ]
  },
  {
   "cell_type": "markdown",
   "id": "b3aa2509",
   "metadata": {
    "papermill": {
     "duration": 0.009966,
     "end_time": "2024-05-11T14:10:21.025473",
     "exception": false,
     "start_time": "2024-05-11T14:10:21.015507",
     "status": "completed"
    },
    "tags": []
   },
   "source": [
    "For a hint or the solution, uncomment the appropriate line below."
   ]
  },
  {
   "cell_type": "code",
   "execution_count": 13,
   "id": "8a815021",
   "metadata": {
    "execution": {
     "iopub.execute_input": "2024-05-11T14:10:21.047261Z",
     "iopub.status.busy": "2024-05-11T14:10:21.046832Z",
     "iopub.status.idle": "2024-05-11T14:10:21.051494Z",
     "shell.execute_reply": "2024-05-11T14:10:21.050100Z"
    },
    "papermill": {
     "duration": 0.019045,
     "end_time": "2024-05-11T14:10:21.054544",
     "exception": false,
     "start_time": "2024-05-11T14:10:21.035499",
     "status": "completed"
    },
    "tags": []
   },
   "outputs": [],
   "source": [
    "#q_3.hint()\n",
    "#q_3.solution()"
   ]
  },
  {
   "cell_type": "markdown",
   "id": "abac8255",
   "metadata": {
    "papermill": {
     "duration": 0.010194,
     "end_time": "2024-05-11T14:10:21.074716",
     "exception": false,
     "start_time": "2024-05-11T14:10:21.064522",
     "status": "completed"
    },
    "tags": []
   },
   "source": [
    "Thinking about the question above, there are a few columns that appear to have geographic data. Look at a few values (with the `list_rows()` command) to see if you can determine their relationship.  Two columns will still be hard to interpret. But it should be obvious how the `location` column relates to `latitude` and `longitude`."
   ]
  },
  {
   "cell_type": "code",
   "execution_count": 14,
   "id": "fbf753c2",
   "metadata": {
    "execution": {
     "iopub.execute_input": "2024-05-11T14:10:21.096753Z",
     "iopub.status.busy": "2024-05-11T14:10:21.096329Z",
     "iopub.status.idle": "2024-05-11T14:10:21.100615Z",
     "shell.execute_reply": "2024-05-11T14:10:21.099603Z"
    },
    "papermill": {
     "duration": 0.018021,
     "end_time": "2024-05-11T14:10:21.102798",
     "exception": false,
     "start_time": "2024-05-11T14:10:21.084777",
     "status": "completed"
    },
    "tags": []
   },
   "outputs": [],
   "source": [
    "# Scratch space for your code"
   ]
  },
  {
   "cell_type": "markdown",
   "id": "548ef6cb",
   "metadata": {
    "papermill": {
     "duration": 0.009918,
     "end_time": "2024-05-11T14:10:21.122738",
     "exception": false,
     "start_time": "2024-05-11T14:10:21.112820",
     "status": "completed"
    },
    "tags": []
   },
   "source": [
    "# Keep going\n",
    "\n",
    "You've looked at the schema, but you haven't yet done anything exciting with the data itself. Things get more interesting when you get to the data, so keep going to **[write your first SQL query](https://www.kaggle.com/dansbecker/select-from-where).**"
   ]
  },
  {
   "cell_type": "markdown",
   "id": "2444290d",
   "metadata": {
    "papermill": {
     "duration": 0.00969,
     "end_time": "2024-05-11T14:10:21.142422",
     "exception": false,
     "start_time": "2024-05-11T14:10:21.132732",
     "status": "completed"
    },
    "tags": []
   },
   "source": [
    "---\n",
    "\n",
    "\n",
    "\n",
    "\n",
    "*Have questions or comments? Visit the [course discussion forum](https://www.kaggle.com/learn/intro-to-sql/discussion) to chat with other learners.*"
   ]
  }
 ],
 "metadata": {
  "kaggle": {
   "accelerator": "none",
   "dataSources": [
    {
     "datasetId": 22090,
     "sourceId": 28376,
     "sourceType": "datasetVersion"
    },
    {
     "datasetId": 6057,
     "sourceId": 285982,
     "sourceType": "datasetVersion"
    }
   ],
   "isGpuEnabled": false,
   "isInternetEnabled": false,
   "language": "python",
   "sourceType": "notebook"
  },
  "kernelspec": {
   "display_name": "Python 3",
   "language": "python",
   "name": "python3"
  },
  "language_info": {
   "codemirror_mode": {
    "name": "ipython",
    "version": 3
   },
   "file_extension": ".py",
   "mimetype": "text/x-python",
   "name": "python",
   "nbconvert_exporter": "python",
   "pygments_lexer": "ipython3",
   "version": "3.10.13"
  },
  "papermill": {
   "default_parameters": {},
   "duration": 13.210851,
   "end_time": "2024-05-11T14:10:21.974399",
   "environment_variables": {},
   "exception": null,
   "input_path": "__notebook__.ipynb",
   "output_path": "__notebook__.ipynb",
   "parameters": {},
   "start_time": "2024-05-11T14:10:08.763548",
   "version": "2.5.0"
  }
 },
 "nbformat": 4,
 "nbformat_minor": 5
}
