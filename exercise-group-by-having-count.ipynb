{
 "cells": [
  {
   "cell_type": "markdown",
   "id": "21ac8b81",
   "metadata": {
    "papermill": {
     "duration": 0.00432,
     "end_time": "2024-05-13T20:18:17.795024",
     "exception": false,
     "start_time": "2024-05-13T20:18:17.790704",
     "status": "completed"
    },
    "tags": []
   },
   "source": [
    "**This notebook is an exercise in the [SQL](https://www.kaggle.com/learn/intro-to-sql) course.  You can reference the tutorial at [this link](https://www.kaggle.com/dansbecker/group-by-having-count).**\n",
    "\n",
    "---\n"
   ]
  },
  {
   "cell_type": "markdown",
   "id": "e6d47062",
   "metadata": {
    "papermill": {
     "duration": 0.003279,
     "end_time": "2024-05-13T20:18:17.802113",
     "exception": false,
     "start_time": "2024-05-13T20:18:17.798834",
     "status": "completed"
    },
    "tags": []
   },
   "source": [
    "# Introduction\n",
    "\n",
    "Queries with **GROUP BY** can be powerful. There are many small things that can trip you up (like the order of the clauses), but it will start to feel natural once you've done it a few times. Here, you'll write queries using **GROUP BY** to answer questions from the Hacker News dataset.\n",
    "\n",
    "Before you get started, run the following cell to set everything up:"
   ]
  },
  {
   "cell_type": "code",
   "execution_count": 1,
   "id": "bb86fafe",
   "metadata": {
    "execution": {
     "iopub.execute_input": "2024-05-13T20:18:17.810518Z",
     "iopub.status.busy": "2024-05-13T20:18:17.810183Z",
     "iopub.status.idle": "2024-05-13T20:18:25.077311Z",
     "shell.execute_reply": "2024-05-13T20:18:25.076197Z"
    },
    "papermill": {
     "duration": 7.274126,
     "end_time": "2024-05-13T20:18:25.079687",
     "exception": false,
     "start_time": "2024-05-13T20:18:17.805561",
     "status": "completed"
    },
    "tags": []
   },
   "outputs": [
    {
     "name": "stdout",
     "output_type": "stream",
     "text": [
      "Using Kaggle's public dataset BigQuery integration.\n",
      "Setup Complete\n"
     ]
    }
   ],
   "source": [
    "# Set up feedback system\n",
    "from learntools.core import binder\n",
    "binder.bind(globals())\n",
    "from learntools.sql.ex3 import *\n",
    "print(\"Setup Complete\")"
   ]
  },
  {
   "cell_type": "markdown",
   "id": "c5143a6e",
   "metadata": {
    "papermill": {
     "duration": 0.004518,
     "end_time": "2024-05-13T20:18:25.088493",
     "exception": false,
     "start_time": "2024-05-13T20:18:25.083975",
     "status": "completed"
    },
    "tags": []
   },
   "source": [
    "The code cell below fetches the `full` table from the `hacker_news` dataset.  We also preview the first five rows of the table."
   ]
  },
  {
   "cell_type": "code",
   "execution_count": 2,
   "id": "51422574",
   "metadata": {
    "execution": {
     "iopub.execute_input": "2024-05-13T20:18:25.097169Z",
     "iopub.status.busy": "2024-05-13T20:18:25.096665Z",
     "iopub.status.idle": "2024-05-13T20:18:27.075555Z",
     "shell.execute_reply": "2024-05-13T20:18:27.074882Z"
    },
    "papermill": {
     "duration": 1.985196,
     "end_time": "2024-05-13T20:18:27.077395",
     "exception": false,
     "start_time": "2024-05-13T20:18:25.092199",
     "status": "completed"
    },
    "tags": []
   },
   "outputs": [
    {
     "name": "stdout",
     "output_type": "stream",
     "text": [
      "Using Kaggle's public dataset BigQuery integration.\n"
     ]
    },
    {
     "data": {
      "text/html": [
       "<div>\n",
       "<style scoped>\n",
       "    .dataframe tbody tr th:only-of-type {\n",
       "        vertical-align: middle;\n",
       "    }\n",
       "\n",
       "    .dataframe tbody tr th {\n",
       "        vertical-align: top;\n",
       "    }\n",
       "\n",
       "    .dataframe thead th {\n",
       "        text-align: right;\n",
       "    }\n",
       "</style>\n",
       "<table border=\"1\" class=\"dataframe\">\n",
       "  <thead>\n",
       "    <tr style=\"text-align: right;\">\n",
       "      <th></th>\n",
       "      <th>title</th>\n",
       "      <th>url</th>\n",
       "      <th>text</th>\n",
       "      <th>dead</th>\n",
       "      <th>by</th>\n",
       "      <th>score</th>\n",
       "      <th>time</th>\n",
       "      <th>timestamp</th>\n",
       "      <th>type</th>\n",
       "      <th>id</th>\n",
       "      <th>parent</th>\n",
       "      <th>descendants</th>\n",
       "      <th>ranking</th>\n",
       "      <th>deleted</th>\n",
       "    </tr>\n",
       "  </thead>\n",
       "  <tbody>\n",
       "    <tr>\n",
       "      <th>0</th>\n",
       "      <td>None</td>\n",
       "      <td>None</td>\n",
       "      <td>If the crocodile looked him up on Google, we b...</td>\n",
       "      <td>None</td>\n",
       "      <td>raxxorrax</td>\n",
       "      <td>NaN</td>\n",
       "      <td>1633421535</td>\n",
       "      <td>2021-10-05 08:12:15+00:00</td>\n",
       "      <td>comment</td>\n",
       "      <td>28756662</td>\n",
       "      <td>28750122</td>\n",
       "      <td>NaN</td>\n",
       "      <td>NaN</td>\n",
       "      <td>None</td>\n",
       "    </tr>\n",
       "    <tr>\n",
       "      <th>1</th>\n",
       "      <td>None</td>\n",
       "      <td>None</td>\n",
       "      <td>What exactly are you looking for? I think Pyto...</td>\n",
       "      <td>None</td>\n",
       "      <td>abiro</td>\n",
       "      <td>NaN</td>\n",
       "      <td>1569141387</td>\n",
       "      <td>2019-09-22 08:36:27+00:00</td>\n",
       "      <td>comment</td>\n",
       "      <td>21040311</td>\n",
       "      <td>21040141</td>\n",
       "      <td>NaN</td>\n",
       "      <td>NaN</td>\n",
       "      <td>None</td>\n",
       "    </tr>\n",
       "    <tr>\n",
       "      <th>2</th>\n",
       "      <td>None</td>\n",
       "      <td>None</td>\n",
       "      <td>Ironically, this very project might help out w...</td>\n",
       "      <td>None</td>\n",
       "      <td>mjevans</td>\n",
       "      <td>NaN</td>\n",
       "      <td>1505769703</td>\n",
       "      <td>2017-09-18 21:21:43+00:00</td>\n",
       "      <td>comment</td>\n",
       "      <td>15279716</td>\n",
       "      <td>15276626</td>\n",
       "      <td>NaN</td>\n",
       "      <td>NaN</td>\n",
       "      <td>None</td>\n",
       "    </tr>\n",
       "    <tr>\n",
       "      <th>3</th>\n",
       "      <td>None</td>\n",
       "      <td>None</td>\n",
       "      <td>As you start to gain some experience it can be...</td>\n",
       "      <td>None</td>\n",
       "      <td>every_other</td>\n",
       "      <td>NaN</td>\n",
       "      <td>1538575027</td>\n",
       "      <td>2018-10-03 13:57:07+00:00</td>\n",
       "      <td>comment</td>\n",
       "      <td>18130207</td>\n",
       "      <td>18128477</td>\n",
       "      <td>NaN</td>\n",
       "      <td>NaN</td>\n",
       "      <td>None</td>\n",
       "    </tr>\n",
       "    <tr>\n",
       "      <th>4</th>\n",
       "      <td>None</td>\n",
       "      <td>None</td>\n",
       "      <td>That’s what I was referring to, yes. I heard o...</td>\n",
       "      <td>None</td>\n",
       "      <td>manmal</td>\n",
       "      <td>NaN</td>\n",
       "      <td>1615664155</td>\n",
       "      <td>2021-03-13 19:35:55+00:00</td>\n",
       "      <td>comment</td>\n",
       "      <td>26449260</td>\n",
       "      <td>26449237</td>\n",
       "      <td>NaN</td>\n",
       "      <td>NaN</td>\n",
       "      <td>None</td>\n",
       "    </tr>\n",
       "  </tbody>\n",
       "</table>\n",
       "</div>"
      ],
      "text/plain": [
       "  title   url                                               text  dead  \\\n",
       "0  None  None  If the crocodile looked him up on Google, we b...  None   \n",
       "1  None  None  What exactly are you looking for? I think Pyto...  None   \n",
       "2  None  None  Ironically, this very project might help out w...  None   \n",
       "3  None  None  As you start to gain some experience it can be...  None   \n",
       "4  None  None  That’s what I was referring to, yes. I heard o...  None   \n",
       "\n",
       "            by  score        time                 timestamp     type  \\\n",
       "0    raxxorrax    NaN  1633421535 2021-10-05 08:12:15+00:00  comment   \n",
       "1        abiro    NaN  1569141387 2019-09-22 08:36:27+00:00  comment   \n",
       "2      mjevans    NaN  1505769703 2017-09-18 21:21:43+00:00  comment   \n",
       "3  every_other    NaN  1538575027 2018-10-03 13:57:07+00:00  comment   \n",
       "4       manmal    NaN  1615664155 2021-03-13 19:35:55+00:00  comment   \n",
       "\n",
       "         id    parent  descendants  ranking deleted  \n",
       "0  28756662  28750122          NaN      NaN    None  \n",
       "1  21040311  21040141          NaN      NaN    None  \n",
       "2  15279716  15276626          NaN      NaN    None  \n",
       "3  18130207  18128477          NaN      NaN    None  \n",
       "4  26449260  26449237          NaN      NaN    None  "
      ]
     },
     "execution_count": 2,
     "metadata": {},
     "output_type": "execute_result"
    }
   ],
   "source": [
    "from google.cloud import bigquery\n",
    "\n",
    "# Create a \"Client\" object\n",
    "client = bigquery.Client()\n",
    "\n",
    "# Construct a reference to the \"hacker_news\" dataset\n",
    "dataset_ref = client.dataset(\"hacker_news\", project=\"bigquery-public-data\")\n",
    "\n",
    "# API request - fetch the dataset\n",
    "dataset = client.get_dataset(dataset_ref)\n",
    "\n",
    "# Construct a reference to the \"full\" table\n",
    "table_ref = dataset_ref.table(\"full\")\n",
    "\n",
    "# API request - fetch the table\n",
    "table = client.get_table(table_ref)\n",
    "\n",
    "# Preview the first five lines of the table\n",
    "client.list_rows(table, max_results=5).to_dataframe()"
   ]
  },
  {
   "cell_type": "markdown",
   "id": "74100655",
   "metadata": {
    "papermill": {
     "duration": 0.003828,
     "end_time": "2024-05-13T20:18:27.085490",
     "exception": false,
     "start_time": "2024-05-13T20:18:27.081662",
     "status": "completed"
    },
    "tags": []
   },
   "source": [
    "# Exercises\n",
    "\n",
    "### 1) Prolific commenters\n",
    "\n",
    "Hacker News would like to send awards to everyone who has written more than 10,000 posts. Write a query that returns all authors with more than 10,000 posts as well as their post counts. Call the column with post counts `NumPosts`.\n",
    "\n",
    "In case sample query is helpful, here is a query you saw in the tutorial to answer a similar question:\n",
    "```\n",
    "query = \"\"\"\n",
    "        SELECT parent, COUNT(1) AS NumPosts\n",
    "        FROM `bigquery-public-data.hacker_news.full`\n",
    "        GROUP BY parent\n",
    "        HAVING COUNT(1) > 10\n",
    "        \"\"\"\n",
    "```"
   ]
  },
  {
   "cell_type": "code",
   "execution_count": 3,
   "id": "dbbdf84e",
   "metadata": {
    "execution": {
     "iopub.execute_input": "2024-05-13T20:18:27.095177Z",
     "iopub.status.busy": "2024-05-13T20:18:27.094647Z",
     "iopub.status.idle": "2024-05-13T20:18:29.019606Z",
     "shell.execute_reply": "2024-05-13T20:18:29.018749Z"
    },
    "papermill": {
     "duration": 1.931737,
     "end_time": "2024-05-13T20:18:29.021481",
     "exception": false,
     "start_time": "2024-05-13T20:18:27.089744",
     "status": "completed"
    },
    "tags": []
   },
   "outputs": [
    {
     "name": "stdout",
     "output_type": "stream",
     "text": [
      "   NumPosts    author\n",
      "0     14922  masklinn\n",
      "1     10013     gruez\n",
      "2     16489     sp332\n",
      "3     10718   wpietri\n",
      "4     12046   jonbaer\n"
     ]
    },
    {
     "data": {
      "application/javascript": [
       "parent.postMessage({\"jupyterEvent\": \"custom.exercise_interaction\", \"data\": {\"outcomeType\": 1, \"valueTowardsCompletion\": 0.5, \"interactionType\": 1, \"questionType\": 2, \"questionId\": \"1_ProlificCommenters\", \"learnToolsVersion\": \"0.3.4\", \"failureMessage\": \"\", \"exceptionClass\": \"\", \"trace\": \"\"}}, \"*\")"
      ],
      "text/plain": [
       "<IPython.core.display.Javascript object>"
      ]
     },
     "metadata": {},
     "output_type": "display_data"
    },
    {
     "data": {
      "text/markdown": [
       "<span style=\"color:#33cc33\">Correct</span>"
      ],
      "text/plain": [
       "Correct"
      ]
     },
     "metadata": {},
     "output_type": "display_data"
    }
   ],
   "source": [
    "# Query to select prolific commenters and post counts\n",
    "prolific_commenters_query = \"\"\"\n",
    "                            SELECT COUNT(id) AS NumPosts, `by` AS author\n",
    "                            FROM `bigquery-public-data.hacker_news.full`\n",
    "                            GROUP BY `by`\n",
    "                            HAVING COUNT(id) > 10000\n",
    "                            \"\"\" \n",
    "\n",
    "# Set up the query (cancel the query if it would use too much of \n",
    "# your quota, with the limit set to 1 GB)\n",
    "safe_config = bigquery.QueryJobConfig(maximum_bytes_billed=10**10)\n",
    "query_job = client.query(prolific_commenters_query, job_config=safe_config)\n",
    "\n",
    "# API request - run the query, and return a pandas DataFrame\n",
    "prolific_commenters = query_job.to_dataframe()\n",
    "\n",
    "# View top few rows of results\n",
    "print(prolific_commenters.head())\n",
    "\n",
    "# Check your answer\n",
    "q_1.check()"
   ]
  },
  {
   "cell_type": "markdown",
   "id": "0d19de3f",
   "metadata": {
    "papermill": {
     "duration": 0.004116,
     "end_time": "2024-05-13T20:18:29.030174",
     "exception": false,
     "start_time": "2024-05-13T20:18:29.026058",
     "status": "completed"
    },
    "tags": []
   },
   "source": [
    "For the solution, uncomment the line below."
   ]
  },
  {
   "cell_type": "code",
   "execution_count": 4,
   "id": "9f5679e6",
   "metadata": {
    "execution": {
     "iopub.execute_input": "2024-05-13T20:18:29.040150Z",
     "iopub.status.busy": "2024-05-13T20:18:29.039859Z",
     "iopub.status.idle": "2024-05-13T20:18:29.043603Z",
     "shell.execute_reply": "2024-05-13T20:18:29.042720Z"
    },
    "papermill": {
     "duration": 0.011006,
     "end_time": "2024-05-13T20:18:29.045425",
     "exception": false,
     "start_time": "2024-05-13T20:18:29.034419",
     "status": "completed"
    },
    "tags": []
   },
   "outputs": [],
   "source": [
    "# q_1.solution()"
   ]
  },
  {
   "cell_type": "markdown",
   "id": "2e6bd7d0",
   "metadata": {
    "papermill": {
     "duration": 0.004088,
     "end_time": "2024-05-13T20:18:29.053903",
     "exception": false,
     "start_time": "2024-05-13T20:18:29.049815",
     "status": "completed"
    },
    "tags": []
   },
   "source": [
    "### 2) Deleted comments\n",
    "\n",
    "How many comments have been deleted? (If a comment was deleted, the `deleted` column in the table will have the value `True`.)"
   ]
  },
  {
   "cell_type": "code",
   "execution_count": 5,
   "id": "04c03289",
   "metadata": {
    "execution": {
     "iopub.execute_input": "2024-05-13T20:18:29.063635Z",
     "iopub.status.busy": "2024-05-13T20:18:29.063365Z",
     "iopub.status.idle": "2024-05-13T20:18:30.658617Z",
     "shell.execute_reply": "2024-05-13T20:18:30.657598Z"
    },
    "papermill": {
     "duration": 1.602718,
     "end_time": "2024-05-13T20:18:30.660878",
     "exception": false,
     "start_time": "2024-05-13T20:18:29.058160",
     "status": "completed"
    },
    "tags": []
   },
   "outputs": [
    {
     "name": "stdout",
     "output_type": "stream",
     "text": [
      "  deleted  NumDeleted\n",
      "0    True      859401\n",
      "1    None    28969114\n"
     ]
    }
   ],
   "source": [
    "# Write your query here and figure out the answer\n",
    "deleted_query = \"\"\"\n",
    "                SELECT deleted, COUNT(id) AS NumDeleted\n",
    "                FROM `bigquery-public-data.hacker_news.full`\n",
    "                GROUP BY deleted\n",
    "                \"\"\" \n",
    "\n",
    "# Set up the query (cancel the query if it would use too much of \n",
    "# your quota, with the limit set to 1 GB)\n",
    "safe_config = bigquery.QueryJobConfig(maximum_bytes_billed=10**10)\n",
    "query_job = client.query(deleted_query, job_config=safe_config)\n",
    "\n",
    "# API request - run the query, and return a pandas DataFrame\n",
    "deleted_comments = query_job.to_dataframe()\n",
    "\n",
    "# View top few rows of results\n",
    "print(deleted_comments)"
   ]
  },
  {
   "cell_type": "code",
   "execution_count": 6,
   "id": "f3f5d93d",
   "metadata": {
    "execution": {
     "iopub.execute_input": "2024-05-13T20:18:30.671652Z",
     "iopub.status.busy": "2024-05-13T20:18:30.671351Z",
     "iopub.status.idle": "2024-05-13T20:18:30.677405Z",
     "shell.execute_reply": "2024-05-13T20:18:30.676772Z"
    },
    "papermill": {
     "duration": 0.01336,
     "end_time": "2024-05-13T20:18:30.679113",
     "exception": false,
     "start_time": "2024-05-13T20:18:30.665753",
     "status": "completed"
    },
    "tags": []
   },
   "outputs": [
    {
     "data": {
      "application/javascript": [
       "parent.postMessage({\"jupyterEvent\": \"custom.exercise_interaction\", \"data\": {\"outcomeType\": 1, \"valueTowardsCompletion\": 0.5, \"interactionType\": 1, \"questionType\": 1, \"questionId\": \"2_NumDeletedPosts\", \"learnToolsVersion\": \"0.3.4\", \"failureMessage\": \"\", \"exceptionClass\": \"\", \"trace\": \"\"}}, \"*\")"
      ],
      "text/plain": [
       "<IPython.core.display.Javascript object>"
      ]
     },
     "metadata": {},
     "output_type": "display_data"
    },
    {
     "data": {
      "text/markdown": [
       "<span style=\"color:#33cc33\">Correct</span>"
      ],
      "text/plain": [
       "Correct"
      ]
     },
     "metadata": {},
     "output_type": "display_data"
    }
   ],
   "source": [
    "num_deleted_posts = 859401 # Put your answer here\n",
    "\n",
    "# Check your answer\n",
    "q_2.check()"
   ]
  },
  {
   "cell_type": "markdown",
   "id": "13d8393f",
   "metadata": {
    "papermill": {
     "duration": 0.004474,
     "end_time": "2024-05-13T20:18:30.688174",
     "exception": false,
     "start_time": "2024-05-13T20:18:30.683700",
     "status": "completed"
    },
    "tags": []
   },
   "source": [
    "For the solution, uncomment the line below."
   ]
  },
  {
   "cell_type": "code",
   "execution_count": 7,
   "id": "97eaf0ec",
   "metadata": {
    "execution": {
     "iopub.execute_input": "2024-05-13T20:18:30.699895Z",
     "iopub.status.busy": "2024-05-13T20:18:30.699263Z",
     "iopub.status.idle": "2024-05-13T20:18:30.702480Z",
     "shell.execute_reply": "2024-05-13T20:18:30.701877Z"
    },
    "papermill": {
     "duration": 0.010308,
     "end_time": "2024-05-13T20:18:30.704155",
     "exception": false,
     "start_time": "2024-05-13T20:18:30.693847",
     "status": "completed"
    },
    "tags": []
   },
   "outputs": [],
   "source": [
    "# q_2.solution()"
   ]
  },
  {
   "cell_type": "markdown",
   "id": "4618c61c",
   "metadata": {
    "papermill": {
     "duration": 0.004438,
     "end_time": "2024-05-13T20:18:30.713225",
     "exception": false,
     "start_time": "2024-05-13T20:18:30.708787",
     "status": "completed"
    },
    "tags": []
   },
   "source": [
    "# Keep Going\n",
    "**[Click here](https://www.kaggle.com/dansbecker/order-by)** to move on and learn about the **ORDER BY** clause."
   ]
  },
  {
   "cell_type": "markdown",
   "id": "fb28598b",
   "metadata": {
    "papermill": {
     "duration": 0.004626,
     "end_time": "2024-05-13T20:18:30.722439",
     "exception": false,
     "start_time": "2024-05-13T20:18:30.717813",
     "status": "completed"
    },
    "tags": []
   },
   "source": [
    "---\n",
    "\n",
    "\n",
    "\n",
    "\n",
    "*Have questions or comments? Visit the [course discussion forum](https://www.kaggle.com/learn/intro-to-sql/discussion) to chat with other learners.*"
   ]
  }
 ],
 "metadata": {
  "kaggle": {
   "accelerator": "none",
   "dataSources": [
    {
     "datasetId": 6057,
     "sourceId": 285982,
     "sourceType": "datasetVersion"
    }
   ],
   "isGpuEnabled": false,
   "isInternetEnabled": false,
   "language": "python",
   "sourceType": "notebook"
  },
  "kernelspec": {
   "display_name": "Python 3",
   "language": "python",
   "name": "python3"
  },
  "language_info": {
   "codemirror_mode": {
    "name": "ipython",
    "version": 3
   },
   "file_extension": ".py",
   "mimetype": "text/x-python",
   "name": "python",
   "nbconvert_exporter": "python",
   "pygments_lexer": "ipython3",
   "version": "3.10.13"
  },
  "papermill": {
   "default_parameters": {},
   "duration": 15.898539,
   "end_time": "2024-05-13T20:18:31.245217",
   "environment_variables": {},
   "exception": null,
   "input_path": "__notebook__.ipynb",
   "output_path": "__notebook__.ipynb",
   "parameters": {},
   "start_time": "2024-05-13T20:18:15.346678",
   "version": "2.5.0"
  }
 },
 "nbformat": 4,
 "nbformat_minor": 5
}
